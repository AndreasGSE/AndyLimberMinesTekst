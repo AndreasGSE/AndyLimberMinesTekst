{
 "cells": [
  {
   "cell_type": "markdown",
   "metadata": {},
   "source": [
    "## Week 1 HW\n",
    "\n",
    "\n",
    "1. This assignment is a group effort.\n",
    "2. Submission to be uploaded into your group repositories in the folder week1\n",
    "3. Deadline is 27th of April 5:00 PM.\n",
    "4. Please follow google's [python styleguide](https://google.github.io/styleguide/pyguide.html) for your code. Pay attention to the guidelines for naming convention, comments and main.\n",
    "5. Code will be checked for plagiarism. Compelling signs of a duplicated effort will lead to a rejection of submission and will attract a 100\\% grade penalty."
   ]
  },
  {
   "cell_type": "markdown",
   "metadata": {},
   "source": [
    "Use the template provided as a starting point. Extend the classes as you see fit. Be careful to place new attributes and methods in the approriate class "
   ]
  },
  {
   "cell_type": "code",
   "execution_count": 3,
   "metadata": {
    "collapsed": false
   },
   "outputs": [],
   "source": [
    "import numpy as np\n",
    "from nltk.tokenize import wordpunct_tokenize\n",
    "from nltk import PorterStemmer\n",
    "\n",
    "\"\"\"\n",
    "This is a class sherlock. \n",
    "Notice how it is defined with the keyword `class` and a name that begins with a capital letter\n",
    "\"\"\"\n",
    "class Document():\n",
    "    \n",
    "    \"\"\" The Doc class rpresents a class of individul documents\n",
    "    \n",
    "    \"\"\"\n",
    "    \n",
    "    def __init__(self, speech_year, speech_pres, speech_text):\n",
    "        \"\"\"\n",
    "        The __init__ method is called everytime an object is instantiated.\n",
    "        This is where you will define all the properties of the object that it must have\n",
    "        when it is `born`.\n",
    "        \"\"\"\n",
    "        \n",
    "        #These are data members\n",
    "        self.year = speech_year\n",
    "        self.pres = speech_pres\n",
    "        self.text = speech_text.lower()\n",
    "        self.tokens = np.array(wordpunct_tokenize(self.text))\n",
    "        \n",
    "        \n",
    "        \n",
    "    def token_clean(self,length):\n",
    "\n",
    "        \"\"\" \n",
    "        description: strip out non-alpha tokens and tokens of length > 'length'\n",
    "        input: length: cut off length \n",
    "        \"\"\"\n",
    "\n",
    "        self.tokens = np.array([t for t in self.tokens if (t.isalpha() and len(t) > length)])\n",
    "\n",
    "\n",
    "    def stopword_remove(self, stopwords):\n",
    "\n",
    "        \"\"\"\n",
    "        description: Remove stopwords from tokens.\n",
    "        input: stopwords: a suitable list of stopwords\n",
    "        \"\"\"\n",
    "\n",
    "        \n",
    "        self.tokens = np.array([t for t in self.tokens if t not in stopwords])\n",
    "\n",
    "\n",
    "    def stem(self):\n",
    "\n",
    "        \"\"\"\n",
    "        description: Stem tokens with Porter Stemmer.\n",
    "        \"\"\"\n",
    "        \n",
    "        self.tokens = np.array([PorterStemmer().stem(t) for t in self.tokens])\n",
    "        \n",
    "    def demo_self():\n",
    "        print 'this will error out'"
   ]
  },
  {
   "cell_type": "code",
   "execution_count": 4,
   "metadata": {
    "collapsed": false
   },
   "outputs": [],
   "source": [
    "import numpy as np\n",
    "import codecs\n",
    "import nltk\n",
    "import re\n",
    "from nltk.tokenize import wordpunct_tokenize\n",
    "from nltk import PorterStemmer\n",
    "import math\n",
    "import heapq\n",
    "\n",
    "\n",
    "class Corpus():\n",
    "    \n",
    "    \"\"\" \n",
    "    The Corpus class represents a document collection\n",
    "     \n",
    "    \"\"\"\n",
    "    def __init__(self, doc_data, stopword_file, clean_length):\n",
    "        \"\"\"\n",
    "        Notice that the __init__ method is invoked everytime an object of the class\n",
    "        is instantiated\n",
    "        \"\"\"\n",
    "        \n",
    "\n",
    "        #Initialise documents by invoking the appropriate class\n",
    "        self.docs = [Document(doc[0], doc[1], doc[2]) for doc in doc_data] \n",
    "        \n",
    "        self.N = len(self.docs)\n",
    "        self.clean_length = clean_length\n",
    "        \n",
    "        #get a list of stopwords\n",
    "        self.create_stopwords(stopword_file, clean_length)\n",
    "        \n",
    "        #stopword removal, token cleaning and stemming to docs\n",
    "        self.clean_docs(2)\n",
    "        \n",
    "        #create vocabulary\n",
    "        self.corpus_tokens()\n",
    "        \n",
    "        #create document_term_matrix\n",
    "        #self.document_term_matrix()\n",
    "        \n",
    "        #create tf_idf scores\n",
    "        #self.tf_idf()\n",
    "        \n",
    "        #create dict_rank\n",
    "        #self.dict_rank(rep_tokens)\n",
    "        \n",
    "    def clean_docs(self, length):\n",
    "        \"\"\" \n",
    "        Applies stopword removal, token cleaning and stemming to docs\n",
    "        \"\"\"\n",
    "        for doc in self.docs:\n",
    "            doc.token_clean(length)\n",
    "            doc.stopword_remove(self.stopwords)\n",
    "            doc.stem()        \n",
    "    \n",
    "    def create_stopwords(self, stopword_file, length):\n",
    "        \"\"\"\n",
    "        description: parses a file of stowords, removes words of length 'length' and \n",
    "        stems it\n",
    "        input: length: cutoff length for words\n",
    "               stopword_file: stopwords file to parse\n",
    "        \"\"\"\n",
    "        \n",
    "        with codecs.open(stopword_file,'r','utf-8') as f: raw = f.read()\n",
    "        \n",
    "        self.stopwords = (np.array([PorterStemmer().stem(word) \n",
    "                                    for word in list(raw.splitlines()) if len(word) > length]))\n",
    "        \n",
    "     \n",
    "    def corpus_tokens(self):\n",
    "        \"\"\"\n",
    "        description: create a set of all all tokens or in other words a vocabulary\n",
    "        \"\"\"\n",
    "        \n",
    "        #initialise an empty set\n",
    "        self.token_set = set()\n",
    "        for doc in self.docs:\n",
    "            self.token_set = self.token_set.union(doc.tokens) \n",
    "        \n",
    "        \n",
    "    ###### 1.1 doc_term ######   \n",
    "    def document_term_matrix(self):\n",
    "        \"\"\"\n",
    "        description: create a D by V array of frequency counts.\n",
    "        \"\"\"\n",
    "        def term_count(doc):\n",
    "            \n",
    "            #initialize an array with size V\n",
    "            term_count = [0]*len(self.token_set)\n",
    "            for token in doc.tokens:\n",
    "                if token in self.token_set:\n",
    "                    term_count[list(self.token_set).index(token)] += 1 \n",
    "            return term_count\n",
    "                   \n",
    "        self.doc_term_matrix = [term_count(doc) for doc in self.docs]\n",
    "        \n",
    "        \n",
    "   \n",
    "    ###### 1.2 tf_idf ######\n",
    "    \n",
    "    def tf_idf(self):\n",
    "        \"\"\"\n",
    "        description: create a D by V array of tf-idf scores\n",
    "        \"\"\"\n",
    "        \n",
    "        \n",
    "        def tf(doc):\n",
    "            #initialize an array of size V\n",
    "            term_count = [0]*len(self.token_set)\n",
    "            for token in doc.tokens:\n",
    "                if token in self.token_set:\n",
    "                    term_count[list(self.token_set).index(token)] += 1 \n",
    "            return term_count\n",
    "        \n",
    "        idf = [0]*len(self.token_set)\n",
    "        for token in self.token_set:\n",
    "            freq = 0\n",
    "            for doc in self.docs:\n",
    "                freq += (token in doc.tokens)\n",
    "            idf[list(self.token_set).index(token)] = math.log(self.N/freq)\n",
    "            \n",
    "        def get_score(doc):\n",
    "            t_f = tf(doc)\n",
    "        \n",
    "            for i,term in enumerate(t_f):\n",
    "                if term != 0:\n",
    "                    t_f[i] = (1 + math.log(term)) * idf[i]\n",
    "            return t_f\n",
    "            \n",
    "        self.tf_idf = [get_score(doc) for doc in self.docs]\n",
    "    \n",
    "    ###### 1.3 dict_rank ######\n",
    "    def dict_rank(self, n, dictionary, rep_tokens):\n",
    "        \"\"\"\n",
    "        return top N documents given a representation of tokens\n",
    "        \"\"\"\n",
    "        \n",
    "        if rep_tokens == \"doc_term\":\n",
    "            self.document_term_matrix()\n",
    "            scores = self.doc_term_matrix\n",
    "        elif rep_tokens == \"tf_idf\":\n",
    "            self.tf_idf()\n",
    "            scores = self.tf_idf\n",
    "        else: print(\"dude, what's wrong?\")\n",
    "\n",
    "        weights = [0] * self.N\n",
    "        \n",
    "        for i, doc in enumerate(self.docs):\n",
    "            for j, token in enumerate(self.token_set):\n",
    "                if token in dictionary:\n",
    "                    weights[i] += scores[i][j]\n",
    "                    \n",
    "        which_max = heapq.nlargest(n, range(len(weights)), weights.__getitem__)             \n",
    "        self.dict_ranking = [self.docs[i] for i in which_max]\n",
    "                    "
   ]
  },
  {
   "cell_type": "markdown",
   "metadata": {},
   "source": [
    "### 1\n",
    "\n",
    "Extend the classes to include the following methods\n",
    "\n",
    "1. document_term_matrix - which returns a D by V array of frequency counts.\n",
    "2. tf_idf - returns a D by V array of tf-idf scores\n",
    "3. dict_rank - returns the top `n` documents based on a given dictionary and represenation of tokens (eg. doc-term matrix or tf-idf matrix)  \n",
    "\n",
    "Include subroutines as and when necessary\n"
   ]
  },
  {
   "cell_type": "markdown",
   "metadata": {},
   "source": [
    "### 2\n",
    "\n",
    "Pick a dictionary (or dictionaries) of your choice from the Harvard IV set, the Loughran-McDonald set, or some other of your choosing that you think may be relevant for the data you collected. Then conduct the following exercise:\n",
    "1. Use the two methods above to score each document in your data.\n",
    "2. Explore whether the scores diﬀer according to the meta data ﬁelds you gathered: for example, do diﬀerent speakers/sources/etc tend to receive a higher score than others?\n",
    "3. Do the answers to the previous question depend on whether tf-idf weighting is applied or not? Why do you think there is (or is not) a diﬀerence in your answers?\n"
   ]
  },
  {
   "cell_type": "code",
   "execution_count": 5,
   "metadata": {
    "collapsed": false
   },
   "outputs": [],
   "source": [
    "import numpy as np\n",
    "import codecs\n",
    "import nltk\n",
    "import re\n",
    "from nltk.tokenize import wordpunct_tokenize\n",
    "from nltk import PorterStemmer\n",
    "\n",
    "def parse_text(textraw, regex): # So this is a necessary process to perform in order to convert into our class\n",
    "    \"\"\"takes raw string and performs two operations\n",
    "    1. Breaks text into a list of speech, president and speech\n",
    "    2. breaks speech into paragraphs\n",
    "    \"\"\"\n",
    "    prs_yr_spch_reg = re.compile(regex, re.MULTILINE|re.DOTALL)\n",
    "    \n",
    "    #Each tuple contains the year, last ane of the president and the speech text\n",
    "    prs_yr_spch = prs_yr_spch_reg.findall(textraw)\n",
    "    \n",
    "    #convert immutabe tuple to mutable list\n",
    "    prs_yr_spch = [list(tup) for tup in prs_yr_spch]\n",
    "    \n",
    "    for i in range(len(prs_yr_spch)):\n",
    "        prs_yr_spch[i][2] = prs_yr_spch[i][2].replace('\\n', '')\n",
    "    \n",
    "    #sort\n",
    "    prs_yr_spch.sort()\n",
    "    \n",
    "    return(prs_yr_spch)\n",
    "\n",
    "text = open('./data/pres_speech/sou_all.txt', 'r').read()\n",
    "regex = \"_(\\d{4}).*?_[a-zA-Z]+.*?_[a-zA-Z]+.*?_([a-zA-Z]+)_\\*+(\\\\n{2}.*?)\\\\n{3}\"\n",
    "pres_speech_list = parse_text(text, regex)\n",
    "\n",
    "corpus = Corpus(pres_speech_list, './data/stopwords/stopwords.txt', 2)\n"
   ]
  },
  {
   "cell_type": "code",
   "execution_count": 9,
   "metadata": {
    "collapsed": false
   },
   "outputs": [],
   "source": [
    "import numpy as np\n",
    "import pandas as pd\n",
    "\n",
    "dictionary = pd.read_table('./data/dictionary/inquirerbasic.csv', encoding = \"utf-8\", sep = ',')\n",
    "\n",
    "entry = dictionary[\"Entry\"]\n",
    "positiv = dictionary[\"Positiv\"]\n",
    "entry = [e.lower() for e in entry]\n",
    "entry = [PorterStemmer().stem(e) for e in entry]\n",
    "pos_dict = dict(zip(entry, positiv))\n",
    "\n",
    "\n",
    "corpus.dict_rank(10, pos_dict, \"doc_term\")\n",
    "dt_scores = corpus.dict_ranking\n",
    "corpus.dict_rank(10, pos_dict, \"tf_idf\")\n",
    "tfidf_scores = corpus.dict_ranking\n",
    "\n"
   ]
  },
  {
   "cell_type": "code",
   "execution_count": 80,
   "metadata": {
    "collapsed": false
   },
   "outputs": [
    {
     "data": {
      "text/plain": [
       "[<__main__.Document instance at 0x10ad20680>,\n",
       " <__main__.Document instance at 0x10ad20998>,\n",
       " <__main__.Document instance at 0x10ad20e18>,\n",
       " <__main__.Document instance at 0x10ad205a8>,\n",
       " <__main__.Document instance at 0x10ad200e0>,\n",
       " <__main__.Document instance at 0x10ad20638>,\n",
       " <__main__.Document instance at 0x10ad20710>,\n",
       " <__main__.Document instance at 0x10ad20518>,\n",
       " <__main__.Document instance at 0x10ad203f8>,\n",
       " <__main__.Document instance at 0x10afa45a8>]"
      ]
     },
     "execution_count": 80,
     "metadata": {},
     "output_type": "execute_result"
    }
   ],
   "source": [
    "corpus.docs"
   ]
  },
  {
   "cell_type": "code",
   "execution_count": 10,
   "metadata": {
    "collapsed": false
   },
   "outputs": [
    {
     "data": {
      "text/plain": [
       "[('1981', 'Carter'),\n",
       " ('1980', 'Carter'),\n",
       " ('1946', 'Truman'),\n",
       " ('1910', 'Taft'),\n",
       " ('1907', 'Roosevelt'),\n",
       " ('1979', 'Carter'),\n",
       " ('1912', 'Taft'),\n",
       " ('1974', 'Nixon'),\n",
       " ('1905', 'Roosevelt'),\n",
       " ('1899', 'McKinley')]"
      ]
     },
     "execution_count": 10,
     "metadata": {},
     "output_type": "execute_result"
    }
   ],
   "source": [
    "[(doc.year, doc.pres) for doc in dt_scores]"
   ]
  },
  {
   "cell_type": "code",
   "execution_count": 11,
   "metadata": {
    "collapsed": false
   },
   "outputs": [
    {
     "data": {
      "text/plain": [
       "[('1981', 'Carter'),\n",
       " ('1980', 'Carter'),\n",
       " ('1906', 'Roosevelt'),\n",
       " ('1907', 'Roosevelt'),\n",
       " ('1905', 'Roosevelt'),\n",
       " ('1898', 'McKinley'),\n",
       " ('1899', 'McKinley'),\n",
       " ('1908', 'Roosevelt'),\n",
       " ('1900', 'McKinley'),\n",
       " ('1901', 'Roosevelt')]"
      ]
     },
     "execution_count": 11,
     "metadata": {},
     "output_type": "execute_result"
    }
   ],
   "source": [
    "[(doc.year, doc.pres) for doc in tfidf_scores]"
   ]
  },
  {
   "cell_type": "markdown",
   "metadata": {},
   "source": [
    "### 3\n",
    "\n",
    "We will now do a sentiment analysis using the AFINN list of words. AFINN is a list of English words rated for valence with an integer between minus five (negative) and plus five (positive). The words have been manually labeled by Finn Årup Nielsen in 2009-2011. A positive valence score can be interpreted as the word conveying a postive emotion and vice versa. \n",
    "\n",
    "Load _AFINN-111.txt_ from ./data/AFINN. Inspect the contents of the file and write a function that converts it into a dictionary where the keys are words and values are the valence scores attributed to them. You may use the readme file for hints. "
   ]
  },
  {
   "cell_type": "code",
   "execution_count": 12,
   "metadata": {
    "collapsed": true
   },
   "outputs": [],
   "source": [
    "AFINN = open('./data/AFINN/AFINN-111.txt', 'r').read()\n",
    "\n",
    "def convert_AFINN(sentiment_text):\n",
    "    term_list = re.findall('[a-z]*[a-z]', sentiment_text)\n",
    "    rating_list = re.findall('\\s?.[0-5]', sentiment_text)\n",
    "    rating_list = [int(re.sub('(\\t|\\nn)','',x)) for x in rating_list]\n",
    "\n",
    "    return dict(zip(term_list, rating_list))\n",
    "\n",
    "sentiment_dic = convert_AFINN(AFINN)"
   ]
  },
  {
   "cell_type": "markdown",
   "metadata": {},
   "source": [
    "### 4\n",
    "Now, use the presedential speeches from last week's HW to calculate its sentiment score. Match every word against the dictionary and come up with a metric that captures the sentiment value. If a word is not present mark its score as 0. Write a function that takes in a list of word and returns their sentiment score. What is the score of the speech you have been assigned? Which year, president gave the least and most positive speech?"
   ]
  },
  {
   "cell_type": "code",
   "execution_count": 13,
   "metadata": {
    "collapsed": true
   },
   "outputs": [],
   "source": [
    "def sentiment_scores(word_list):\n",
    "    score_list = [sentiment_dic[word.lower()] if word in sentiment_dic else 0 for word in word_list] # Assumes already run the previous cell\n",
    "    return score_list\n",
    "\n",
    "doc_list = [doc.text for doc in corpus.docs] # get the text of the documents\n",
    "sent_values = [sum(sentiment_scores(word_list)) for word_list in doc_list] # get the sum of scores for each text"
   ]
  },
  {
   "cell_type": "code",
   "execution_count": 20,
   "metadata": {
    "collapsed": false,
    "scrolled": true
   },
   "outputs": [
    {
     "data": {
      "text/plain": [
       "('2014', 'Obama')"
      ]
     },
     "execution_count": 20,
     "metadata": {},
     "output_type": "execute_result"
    }
   ],
   "source": [
    "pos_doc = corpus.docs[np.argmax(sent_values)]\n",
    "\n",
    "(pos_doc.year, pos_doc.pres)\n"
   ]
  },
  {
   "cell_type": "code",
   "execution_count": 22,
   "metadata": {
    "collapsed": false
   },
   "outputs": [
    {
     "data": {
      "text/plain": [
       "('1981', 'Carter')"
      ]
     },
     "execution_count": 22,
     "metadata": {},
     "output_type": "execute_result"
    }
   ],
   "source": [
    "\n",
    "neg_doc = corpus.docs[np.argmin(sent_values)]\n",
    "\n",
    "(neg_doc.year, neg_doc.pres)"
   ]
  },
  {
   "cell_type": "code",
   "execution_count": null,
   "metadata": {
    "collapsed": true
   },
   "outputs": [],
   "source": []
  }
 ],
 "metadata": {
  "kernelspec": {
   "display_name": "Python 2",
   "language": "python",
   "name": "python2"
  },
  "language_info": {
   "codemirror_mode": {
    "name": "ipython",
    "version": 2
   },
   "file_extension": ".py",
   "mimetype": "text/x-python",
   "name": "python",
   "nbconvert_exporter": "python",
   "pygments_lexer": "ipython2",
   "version": "2.7.11"
  }
 },
 "nbformat": 4,
 "nbformat_minor": 0
}
