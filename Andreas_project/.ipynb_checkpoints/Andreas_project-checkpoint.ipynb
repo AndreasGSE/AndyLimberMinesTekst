{
 "cells": [
  {
   "cell_type": "code",
   "execution_count": 3,
   "metadata": {
    "collapsed": false
   },
   "outputs": [],
   "source": [
    "import numpy as np\n",
    "from bs4 import BeautifulSoup # for maniuplating html\n",
    "\n",
    "# START OF REVIEW EXTRACTING\n",
    "\n",
    "with open('car_output.txt', 'r') as stringfile: # so we load in ALL the data as a massive string\n",
    "\tcar_output = stringfile.read()\n",
    "\n",
    "out = [\"<!DOCTYPE html>\" + rest for rest in car_output.split(\"<!DOCTYPE html>\")] # split up by start pf page, but add the start point\n",
    "\n",
    "out_soup = [BeautifulSoup(html, \"html.parser\") for html in out[1:]] # convert to beautiful soup\n",
    "\n",
    "# I think the above is standard, now we actually do our document (i.e. if change URLs to look at)\n",
    "\n",
    "# Now extracting reviews - golf gives me 2098, could add another car to get more\n",
    "review_rating = []\n",
    "for page in out_soup:\n",
    "\tpage_contents = page.find_all(\"div\", itemprop=\"review\") # locating all reviews on a page\n",
    "\tresult = [(review.find(itemprop=\"reviewBody\").get_text().encode(\"ascii\",\"replace\"), # getting text\n",
    "\t           review.find(class_=\"size8\").get_text().encode(\"ascii\",\"replace\").split()[0]) for review in page_contents] # getting rating\n",
    "\t[review_rating.append(review) for review in result]\n",
    "\n",
    "# Removing empty reviews and getting rid of paragraphs and saving review and rating as a tuple\n",
    "review_rating_red = [(review[0].replace('\\n', ' ').replace('\\r', ''), review[1]) for review in review_rating if review[0] != \"Reviewer left no comment\"] # leaves us with 151 reviews\n",
    "\n",
    "# Save all data just for safety\n",
    "with open(\"reviews_ratings.txt\", \"w\") as out_file:\n",
    "\tout_file.write(\"\\n\".join(\"%s %s\" % review for review in review_rating_red))\n",
    "    \n",
    "# Getting reviews\n",
    "reviews = [review[0] for review in review_rating_red]\n",
    "reviews[1] = \"Top car I've had every convertible VW have made and still have a mk 1 golf but not cabriollet\" # Just randomly noticed this review was written by an idiot\n",
    "\n",
    "# Getting ratings\n",
    "ratings = [review[1] for review in review_rating_red] # distribution of ratings is not high, may not use\n",
    "\n",
    "# END OF REVIEW EXTRACTION"
   ]
  },
  {
   "cell_type": "code",
   "execution_count": 24,
   "metadata": {
    "collapsed": true
   },
   "outputs": [],
   "source": [
    "from nltk.tokenize import wordpunct_tokenize\n",
    "from nltk import PorterStemmer # could change the stemmer or lemmatise\n",
    "\n",
    "# START OF CLASS CREATION\n",
    "# Will create a class that will get rating and text\n",
    "class Review():\n",
    "    # On initialising\n",
    "    def __init__(self, review_text, review_rating):\n",
    "        self.text = review_text.lower()\n",
    "        self.rating = review_rating\n",
    "        self.tokens = np.array(wordpunct_tokenize(self.text)) # Would like to split on punct as well to remove later\n",
    "    \n",
    "    # Remove non-alphanumeric\n",
    "    def token_remove_alpha(self):\n",
    "            self.tokens = np.array([word for word in self.tokens if word.isalpha()])\n",
    "    \n",
    "    # Remove stop words\n",
    "    def token_stop_remove(self, stopwords):\n",
    "            self.tokens = np.array([word for word in self.tokens if word not in stopwords])\n",
    "            \n",
    "    # Now stem everything\n",
    "    def token_stem(self):\n",
    "            self.tokens = np.array([PorterStemmer().stem(word) for word in self.tokens])\n",
    "    \n",
    "    # Define a process that will clean our tokens\n",
    "    def token_clean_up(self, stopwords):    \n",
    "        # Now cleaning up\n",
    "        self.token_remove_alpha()\n",
    "        self.token_stop_remove(stopwords)\n",
    "        self.token_stem()\n",
    "    \n",
    "# END OF CLASS CREATION"
   ]
  },
  {
   "cell_type": "markdown",
   "metadata": {},
   "source": [
    "Note that for the stop words used, also excluded some common \"mistakes\" like youll or youre\n",
    "\n",
    "Also included some words previously included like \"high\", \"first\", \"long\", as they could refer to performance"
   ]
  },
  {
   "cell_type": "code",
   "execution_count": 57,
   "metadata": {
    "collapsed": false
   },
   "outputs": [],
   "source": [
    "from sklearn.feature_extraction.text import TfidfVectorizer\n",
    "from sklearn.feature_extraction.text import CountVectorizer\n",
    "\n",
    "# START OF CORPUS\n",
    "class Review_set():\n",
    "    # On initialising\n",
    "    def __init__(self, review_data, stopword_file):\n",
    "        self.reviews = [Review(review[0], review[1]) for review in review_data] # feed in the tuples of ratings etc.\n",
    "        self.create_stopwords(stopword_file) # stopword element\n",
    "        \n",
    "        # Now for each document we will get a cleaned up token set - note that this is done for each document\n",
    "        self.clean_reviews() \n",
    "        \n",
    "        self.tokenise_reviews() # return reviews but in tokenised form\n",
    "        \n",
    "        # Getting unique tokens in the review set - note we pull data from each document\n",
    "        self.get_unique_tokens()\n",
    "    \n",
    "    # Loading and creating stopwords\n",
    "    def create_stopwords(self, stopword_file):\n",
    "        self.stopwords = np.array(np.loadtxt(\"stopwords.txt\", dtype = str, delimiter = \"\\n\"))\n",
    "        \n",
    "    # Cleaning all documents\n",
    "    def clean_reviews(self):\n",
    "        [review.token_clean_up(self.stopwords) for review in self.reviews]\n",
    "        \n",
    "    # Getting reviews in tokenised form\n",
    "    def tokenise_reviews(self):\n",
    "        self.tokenised_reviews = [\" \".join(review.tokens) for review in self.reviews]\n",
    "        \n",
    "    # Getting the unique set of tokens\n",
    "    def get_unique_tokens(self):\n",
    "        self.unique_tokens = set()\n",
    "        for review in self.reviews:\n",
    "            self.unique_tokens = self.unique_tokens.union(review.tokens)\n",
    "        \n",
    "    # Document term matrix of CLEANED UP TOKENS - NOTE that will return in alphabetical order of words\n",
    "    def doc_term_mat(self):\n",
    "        vectorisor = CountVectorizer()\n",
    "        count_fit = vectorisor.fit_transform(self.tokenised_reviews)\n",
    "        \n",
    "        self.DTM = count_fit.toarray() # return array of counts\n",
    "    \n",
    "    # Get tf_idf scores\n",
    "    def tf_idf_score(self):   \n",
    "        vectorisor = TfidfVectorizer()\n",
    "        tf_idf_fit = vectorisor.fit_transform(self.tokenised_reviews)\n",
    "        \n",
    "        # Now return tuples of words and their associated score - note that am returning ALL\n",
    "        self.tf_idf = zip(vectorisor.get_feature_names(),vectorisor.idf_)\n",
    "        "
   ]
  },
  {
   "cell_type": "markdown",
   "metadata": {},
   "source": [
    "Ultimately will want to find common topics or \"trends\" in the reviews. To identify this could look for\n",
    "- Commonly occuring words: see common trends\n",
    "- Important words: maybe we can use this to identify more in depth reviews that focus on faults\n",
    "\n",
    "I guess then what would be left would be to try and identify the topics by looking at the common words\n",
    "\n",
    "Could extend and look at some kind of sentiment analysis of the top words in a topic\n",
    "\n",
    "Issues\n",
    "- Haven't really specified stop words\n",
    "- Superlatives etc. will really mess up the data, really want to focus on the technical aspects"
   ]
  },
  {
   "cell_type": "code",
   "execution_count": 132,
   "metadata": {
    "collapsed": false
   },
   "outputs": [],
   "source": [
    "# Creating the corpus etc\n",
    "review_data = zip(reviews, ratings)\n",
    "review_corpus = Review_set(review_data, \"stopwords.txt\")"
   ]
  },
  {
   "cell_type": "code",
   "execution_count": 103,
   "metadata": {
    "collapsed": false
   },
   "outputs": [],
   "source": [
    "# Need to be careful because the actual \"REVIEWS\" does NOT have any of these attributes and need to go over it better\n",
    "#print review_corpus.reviews[1].text # THIS returns the text / tokens / rating etc\n",
    "\n",
    "#print review_corpus.stopwords # gets our stopwords\n",
    "\n",
    "#print review_corpus.unique_tokens # now correct (Y)\n",
    "\n",
    "\n",
    "#print review_corpus.tokenised_reviews # this correctly returns a list of all reivews in tokenised form\n",
    "\n",
    "# GOT EVERYTHING TO WORK\n",
    "#from operator import itemgetter #sorted(data,key=itemgetter(1))\n",
    "#review_corpus.tf_idf_score()\n",
    "\n",
    "#print sorted(review_corpus.tf_idf, key = itemgetter(1)) # now we can see some of the most common terms used, e.g. car"
   ]
  },
  {
   "cell_type": "code",
   "execution_count": 138,
   "metadata": {
    "collapsed": false
   },
   "outputs": [
    {
     "name": "stdout",
     "output_type": "stream",
     "text": [
      "(2098L, 2906L)\n",
      "1334\n",
      "(2098L, 1548L)\n",
      "12\n",
      "(2086L, 1548L)\n"
     ]
    }
   ],
   "source": [
    "review_corpus.doc_term_mat()\n",
    "print review_corpus.DTM.shape # the reviews are far too dissimilar to each other, need to cut down on rare words\n",
    "\n",
    "print sum(np.sum(review_corpus.DTM, axis = 0) == 1) # 1334 words only have one entry\n",
    "\n",
    "vectorisor = CountVectorizer(min_df = 0.0004767)\n",
    "count_fit = vectorisor.fit_transform(review_corpus.tokenised_reviews)\n",
    "\n",
    "print count_fit.toarray().shape\n",
    "print sum(np.sum(count_fit.toarray(), axis = 1) == 0)\n",
    "\n",
    "print count_fit.toarray()[np.sum(count_fit.toarray(), axis = 1) != 0,].shape"
   ]
  },
  {
   "cell_type": "code",
   "execution_count": 146,
   "metadata": {
    "collapsed": false
   },
   "outputs": [
    {
     "data": {
      "text/plain": [
       "<lda.lda.LDA instance at 0x0000000013388048>"
      ]
     },
     "execution_count": 146,
     "metadata": {},
     "output_type": "execute_result"
    }
   ],
   "source": [
    "import lda\n",
    "\n",
    "#print np.argmin(np.sum(review_corpus.DTM, axis = 1)) # PROBELM in that some review was only stop words\n",
    "#print review_corpus.reviews[137].text\n",
    "\n",
    "vectorisor = CountVectorizer(min_df = 0.0004767)\n",
    "count_fit = vectorisor.fit_transform(review_corpus.tokenised_reviews)\n",
    "DT_matrix_reduced = count_fit.toarray()[np.sum(count_fit.toarray(), axis = 1) != 0,]\n",
    "\n",
    "# PARAMETERS\n",
    "n_topics = 5\n",
    "n_iter = 10000\n",
    "###\n",
    "\n",
    "lda_model = lda.LDA(n_iter = n_iter, n_topics = n_topics)\n",
    "#lda_model.fit(review_corpus.DTM)\n",
    "lda_model.fit(DT_matrix_reduced)\n",
    "\n",
    "# Running an LDA to try and uncover topics present"
   ]
  },
  {
   "cell_type": "code",
   "execution_count": 143,
   "metadata": {
    "collapsed": false
   },
   "outputs": [
    {
     "name": "stdout",
     "output_type": "stream",
     "text": [
      "[u'four', u'hate', u'forget', u'categori', u'accur', u'cabriolet', u'sorri', u'swap', u'regrett', u'pride', u'worth', u'risk', u'distort', u'affect', u'school', u'factori', u'reliabilti', u'enjoy', u'rusti', u'direct', u'brill', u'hors', u'blue', u'neg', u'asid', u'near', u'new', u'told', u'occas', u'punch', u'pleasur', u'daughter', u'anymor', u'everyon', u'precis', u'smoke', u'pack', u'tremend', u'brought', u'unsur', u'total', u'unit', u'highli', u'call', u'recommend', u'type', u'relax', u'relat', u'haha', u'notic', u'warn', u'warm', u'adult', u'hole', u'hold', u'must', u'torquey', u'accid', u'word', u'room', u'cheapest', u'work', u'mk', u'spec', u'ms', u'brake', u'volkswagon', u'climat', u'give', u'liter', u'want', u'end', u'quot', u'cylind', u'travel', u'faulti', u'hot', u'disappoint', u'confid', u'pokey', u'lag', u'badli', u'wrong', u'beauti', u'arch', u'third', u'minim', u'think', u'perform', u'maintain', u'enter', u'worst', u'haldex', u'order', u'wind', u'origin', u'fall', u'finest', u'privileg', u'incid', u'appar', u'flexibl', u'gentl', u'fit', u'fix', u'better', u'qualiti', u'safe', u'break', u'bang', u'one', u'bank', u'choic', u'went', u'complet', u'side', u'mean', u'capac', u'bodywork', u'god', u'diesel', u'adapt', u'got', u'washer', u'forth', u'navig', u'situat', u'given', u'free', u'standard', u'kit', u'angl', u'filter', u'ish', u'isn', u'loud', u'suppos', u'rang', u'grade', u'independ', u'wast', u'notch', u'unlik', u'alreadi', u'wasn', u'fantast', u'toy', u'top', u'sometim', u'downsid', u'recent', u'outstandingli', u'urban', u'consol', u'tool', u'took', u'somewhat', u'conserv', u'happili', u'technic', u'past', u'silli', u'thirsti', u'provid', u'older', u'tree', u'second', u'matter', u'devon', u'minut', u'prone', u'mini', u'fashion', u'runner', u'modern', u'mind', u'mine', u'seem', u'quieter', u'luxuri', u'latter', u'especi', u'snow', u'hatch', u'thoroughli', u'insur', u'plenti', u'though', u'dial', u'regular', u'coil', u'don', u'alarm', u'metal', u'dog', u'spend', u'came', u'marvel', u'beaten', u'bomb', u'cheapli', u'radio', u'involv', u'despit', u'holder', u'explain', u'awsom', u'busi', u'plate', u'honda', u'watch', u'bar', u'patch', u'twice', u'bad', u'respond', u'blew', u'fair', u'witout', u'resist', u'structur', u'respons', u'fail', u'best', u'awar', u'away', u'sail', u'cruis', u'figur', u'mum', u'attribut', u'cut', u'wear', u'countrysid', u'toler', u'oomph', u'protect', u'fault', u'countri', u'recondit', u'con', u'height', u'gap', u'wider', u'trust', u'panel', u'speak', u'three', u'advert', u'much', u'interest', u'basic', u'hesit', u'quickli', u'life', u'regul', u'recomend', u'lift', u'catch', u'spin', u'overtak', u'tank', u'servic', u'air', u'dashboard', u'gave', u'seven', u'garag', u'runaround', u'iv', u'shame', u'cant', u'im', u'ie', u'sever', u'grown', u'dri', u'receiv', u'make', u'drawback', u'sat', u'european', u'wheel', u'dsg', u'rain', u'hand', u'delight', u'fairli', u'ownership', u'refin', u'tune', u'kid', u'kept', u'tho', u'greatest', u'everyth', u'left', u'autobahn', u'human', u'airbag', u'yet', u'previous', u'easi', u'ideal', u'board', u'skoda', u'els', u'hav', u'opt', u'awsum', u'mayb', u'pothol', u'mileag', u'hatchback', u'apart', u'nimbl', u'specif', u'manual', u'night', u'right', u'old', u'deal', u'interv', u'intern', u'unless', u'bore', u'guess', u'transmiss', u'bottom', u'ice', u'petrol', u'tailgat', u'plu', u'sensibl', u'discount', u'stylish', u'keeper', u'super', u'troubl', u'slightli', u'unfortun', u'produc', u'ordinari', u'thermostat', u'soo', u'son', u'storag', u'fabric', u'ihad', u'frustrat', u'support', u'fight', u'avail', u'stuck', u'reli', u'way', u'spring', u'amazingli', u'constantli', u'babi', u'headach', u'head', u'medium', u'secondhand', u'form', u'offer', u'forc', u'ford', u'heat', u'true', u'electr', u'rattl', u'depreci', u'tell', u'anew', u'retir', u'trim', u'featur', u'classic', u'drive', u'backsid', u'check', u'pipe', u'floor', u'anyday', u'flood', u'tin', u'test', u'roll', u'spoilt', u'intend', u'felt', u'fell', u'consid', u'windscreen', u'femal', u'bullet', u'fsi', u'time', u'daili', u'consum', u'mile', u'row', u'decid', u'depend', u'flash', u'german', u'certainli', u'decis', u'sourc', u'milag', u'condit', u'octob', u'blast', u'cool', u'level', u'tear', u'die', u'brother', u'item', u'quick', u'dip', u'machin', u'hell', u'regret', u'sign', u'everytim', u'roof', u'corner', u'appear', u'favour', u'current', u'appeal', u'gener', u'satisfi', u'along', u'wait', u'box', u'boy', u'brilliant', u'shift', u'extrem', u'love', u'extra', u'prefer', u'visibl', u'instal', u'market', u'prove', u'visit', u'everybodi', u'live', u'wood', u'sporti', u'today', u'plug', u'club', u'peopl', u'punchi', u'effort', u'car', u'prepar', u'focu', u'fli', u'can', u'cab', u'purpos', u'heart', u'favourit', u'chip', u'agent', u'critic', u'gallon', u'occur', u'purr', u'winter', u'economi', u'write', u'alway', u'sunday', u'anyon', u'actual', u'pure', u'map', u'remap', u'may', u'spot', u'usabl', u'motorway', u'birthday', u'passeng', u'date', u'grow', u'man', u'stress', u'practic', u'wheelchair', u'favorit', u'inform', u'switch', u'combin', u'se', u'approx', u'equip', u'cold', u'mainli', u'gtd', u'thank', u'gti', u'window', u'gem', u'passat', u'main', u'non', u'recal', u'estat', u'answer', u'wont', u'wagon', u'term', u'name', u'realist', u'servant', u'clutch', u'didn', u'magazin', u'rock', u'ecu', u'updat', u'upto', u'replac', u'eg', u'continu', u'borrow', u'ex', u'year', u'eu', u'okay', u'happen', u'space', u'stupid', u'showroom', u'sensor', u'correct', u'state', u'bumpi', u'seventh', u'care', u'torqu', u'couldn', u'refus', u'motion', u'turn', u'place', u'husband', u'view', u'imposs', u'first', u'oper', u'carri', u'xx', u'suspens', u'long', u'drove', u'open', u'tomorrow', u'size', u'sheep', u'breed', u'plastic', u'traction', u'citi', u'averag', u'friend', u'hug', u'that', u'mostli', u'seat', u'serv', u'wide', u'rival', u'exampl', u'balanc', u'posit', u'seri', u'nicer', u'sad', u'dash', u'say', u'deliv', u'engin', u'advic', u'note', u'take', u'advis', u'interior', u'green', u'mot', u'wonder', u'noth', u'begin', u'sure', u'pain', u'normal', u'price', u'knew', u'paid', u'abus', u'knee', u'proud', u'sale', u'steadi', u'shop', u'show', u'cheat', u'cheap', u'tend', u'fifth', u'enthusiast', u'slow', u'ratio', u'sdi', u'black', u'nearli', u'variou', u'get', u'soon', u'cannot', u'trade', u'requir', u'truli', u'leather', u'intermitt', u'london', u'bought', u'vision', u'seal', u'sport', u'review', u'pump', u'joy', u'import', u'across', u'acheiv', u'scirocco', u'supermarket', u'spare', u'benfield', u'come', u'allround', u'quiet', u'present', u'improv', u'acceler', u'key', u'period', u'pop', u'polo', u'typic', u'boat', u'damag', u'coupl', u'mark', u'workshop', u'addit', u'thousand', u'catastroph', u'bmw', u'thing', u'spirit', u'sound', u'mount', u'alround', u'ive', u'advantag', u'henc', u'worri', u'destin', u'gloriou', u'technolog', u'everyday', u'harsh', u'pay', u'tour', u'litr', u'pad', u'eventu', u'week', u'exhaust', u'finish', u'assist', u'driver', u'someon', u'driven', u'capabl', u'moder', u'justifi', u'without', u'model', u'summer', u'excel', u'young', u'rest', u'foot', u'aspect', u'touch', u'abil', u'speed', u'blow', u'rover', u'europ', u'except', u'littl', u'instrument', u'grip', u'around', u'read', u'ladi', u'traffic', u'world', u'walk', u'rear', u'mod', u'vauxhal', u'benefit', u'either', u'manag', u'cabl', u'satisfactori', u'adequ', u'cr', u'definit', u'dealership', u'inject', u'unbeliev', u'refer', u'tdi', u'power', u'volkswagen', u'broken', u'found', u'comparison', u'ok', u'greatli', u'aircon', u'oh', u'journey', u'wolf', u'stand', u'ot', u'road', u'heater', u'effici', u'isnt', u'surviv', u'area', u'weekend', u'hey', u'lol', u'start', u'low', u'lot', u'enough', u'regard', u'longer', u'pull', u'hire', u'possibl', u'bucket', u'rust', u'expect', u'gone', u'ab', u'ad', u'certain', u'sunroof', u'al', u'strongli', u'aw', u'creak', u'fill', u'hybrid', u'workhors', u'tight', u'compet', u'tiguan', u'poor', u'genuin', u'condens', u'teeth', u'peugeot', u'reduc', u'wife', u'invest', u'repay', u'mass', u'potenti', u'lack', u'concern', u'disc', u'waterpump', u'bulb', u'follow', u'children', u'chain', u'gttdi', u'arisen', u'th', u'yorkshir', u'smile', u'merced', u'norm', u'hill', u'mpg', u'woman', u'far', u'mph', u'mechan', u'failur', u'fab', u'gearbox', u'strand', u'sluggish', u'list', u'adjust', u'bluemot', u'small', u'damper', u'quicker', u'ten', u'rate', u'pressur', u'design', u'pass', u'excit', u'will', u'clock', u'abl', u'version', u'hasn', u'full', u'catalyt', u'excess', u'strong', u'valv', u'valu', u'leav', u'whine', u'amount', u'pick', u'narrow', u'caravan', u'famili', u'two', u'morn', u'taken', u'wiper', u'minor', u'flat', u'door', u'hundr', u'plant', u'stick', u'broke', u'known', u'compani', u'glad', u'town', u'none', u'hour', u'hous', u'histori', u'remain', u'nine', u'def', u'registr', u'emiss', u'accept', u'unreli', u'solidli', u'huge', u'cours', u'secur', u'rather', u'comfort', u'simpl', u'unabl', u'regener', u'shouldnt', u'paintwork', u'variant', u'develop', u'circumst', u'short', u'egr', u'caus', u'dread', u'media', u'dream', u'help', u'econom', u'radar', u'rounder', u'suffer', u'style', u'alli', u'late', u'zippi', u'might', u'wouldn', u'good', u'return', u'food', u'gadget', u'ye', u'superbl', u'inch', u'yr', u'complain', u'bigger', u'document', u'radiat', u'easili', u'achiev', u'fulli', u'trailer', u'breakdown', u'inclin', u'weight', u'hard', u'realli', u'heavi', u'oil', u'safeti', u'research', u'trusti', u'cambelt', u'carriageway', u'gut', u'differ', u'pleasant', u'reason', u'base', u'believ', u'put', u'basi', u'round', u'perhap', u'lifetim', u'major', u'dont', u'obviou', u'vehicl', u'feel', u'exchang', u'number', u'tow', u'elder', u'smaller', u'done', u'least', u'stabl', u'mist', u'miss', u'fanci', u'flimsi', u'smoother', u'player', u'paint', u'stori', u'comfi', u'option', u'behind', u'month', u'park', u'twisti', u'drain', u'uneconom', u'sold', u'kind', u'remov', u'cost', u'consumpt', u'toward', u'comput', u'coolant', u'packag', u'bhp', u'juici', u'sell', u'built', u'equival', u'trip', u'self', u'scotland', u'lit', u'build', u'rubbish', u'play', u'previou', u'reach', u'plan', u'swiftli', u'charg', u'amaz', u'clear', u'cover', u'part', u'clean', u'sturdi', u'latest', u'blend', u'awesom', u'golf', u'cruiser', u'particularli', u'fine', u'find', u'pretti', u'money', u'hit', u'cheaper', u'mainten', u'fastest', u'roomi', u'sill', u'uncomfort', u'timeless', u'common', u'hype', u'wrote', u'set', u'bare', u'close', u'struggl', u'glue', u'someth', u'case', u'stall', u'recaro', u'use', u'experi', u'altern', u'numer', u'water', u'last', u'annual', u'whole', u'load', u'onward', u'simpli', u'point', u'reccomend', u'residu', u'batteri', u'belt', u'ps', u'due', u'ran', u'pd', u'firm', u'fire', u'imag', u'crack', u'great', u'fund', u'pricey', u'ignit', u'look', u'solid', u'straight', u'bill', u'budget', u'pace', u'match', u'fun', u'loos', u'real', u'pound', u'readi', u'centr', u'therefor', u'rip', u'costli', u'virtu', u'rid', u'audi', u'grant', u'grand', u'higher', u'moment', u'injector', u'robust', u'sump', u'defiantli', u'lower', u'particul', u'ampl', u'spent', u'cheep', u'person', u'expens', u'swiss', u'anybodi', u'coup', u'shape', u'regardless', u'prix', u'cup', u'win', u'snap', u'limp', u'complaint', u'big', u'bit', u'characterist', u'semi', u'turbo', u'admittedli', u'firend', u'encount', u'often', u'sight', u'mirror', u'mustang', u'surpris', u'per', u'reckon', u'larg', u'epic', u'run', u'lose', u'step', u'wouldnt', u'drama', u'idl', u'corros', u'wanna', u'block', u'repair', u'irrit', u'within', u'upgrad', u'chang', u'underst', u'lexu', u'question', u'fast', u'custom', u'mkv', u'doubt', u'includ', u'suit', u'forward', u'properli', u'fabia', u'cloth', u'newer', u'line', u'dull', u'consist', u'uk', u'constant', u'smoothli', u'doesn', u'repres', u'guarante', u'pedigre', u'afford', u'bracket', u'nav', u'nice', u'draw', u'utterli', u'hp', u'ago', u'lane', u'land', u'age', u'leak', u'fresh', u'windi', u'gt', u'guzzler', u'ga', u'go', u'compact', u'privat', u'sensit', u'becam', u'sens', u'annoy', u'electron', u'tri', u'meant', u'shock', u'rack', u'pleas', u'fortun', u'natur', u'crop', u'fold', u'poke', u'compar', u'dealer', u'access', u'dissapoint', u'vibrat', u'leg', u'sexi', u'bodi', u'let', u'meet', u'becom', u'larger', u'later', u'earli', u'opinion', u'motor', u'home', u'drivabl', u'fabul', u'runabout', u'crap', u'next', u'worn', u'camera', u'lotteri', u'save', u'standstil', u'commut', u'sort', u'econ', u'impress', u'train', u'faultless', u'central', u'starter', u'women', u'fan', u'ride', u'obvious', u'proof', u'process', u'lock', u'tax', u'high', u'luggag', u'downhil', u'bend', u'ferri', u'everywher', u'surfac', u'sit', u'six', u'need', u'instead', u'tension', u'de', u'stop', u'attent', u'honestli', u'clarkson', u'classi', u'seriou', u'disabl', u'issu', u'allow', u'alloy', u'uphil', u'longest', u'move', u'whilst', u'perfect', u'superior', u'inlet', u'till', u'send', u'bye', u'supurb', u'fourth', u'handl', u'auto', u'overal', u'front', u'day', u'thrill', u'anyth', u'edit', u'weather', u'mode', u'bump', u'product', u'spaciou', u'bag', u'rev', u'suitabl', u'rel', u'stun', u'reg', u'red', u'franc', u'insid', u'hight', u'control', u'ect', u'tempt', u'releas', u'embarrass', u'bleed', u'ltr', u'nowher', u'ask', u'keep', u'aren', u'organis', u'outsid', u'scare', u'softer', u'softwar', u'powerful', u'bonnet', u'owner', u'facil', u'resal', u'perfectli', u'system', u'sadli', u'final', u'cabin', u'shell', u'gear', u'juli', u'pulman', u'haven', u'bed', u'charact', u'claim', u'frugal', u'light', u'result', u'function', u'terribl', u'reserv', u'lightweight', u'rout', u'mid', u'arm', u'mix', u'roadhold', u'singl', u'happi', u'led', u'chassi', u'class', u'stereo', u'inde', u'occasion', u'wow', u'fact', u'affair', u'anyway', u'bring', u'staff', u'nois', u'tire', u'hadn', u'forev', u'jap', u'eat', u'manufactur', u'won', u'fuel', u'local', u'hope', u'contribut', u'beat', u'convert', u'dodgi', u'bear', u'regularli', u'increas', u'reluct', u'dpf', u'stuff', u'integr', u'widow', u'armrest', u'horrend', u'accord', u'particl', u'danger', u'wire', u'correctli', u'pattern', u'superb', u'written', u'tyre', u'weak', u'dislik', u'job', u'spoil', u'group', u'revers', u'drum', u'renault', u'joke', u'tsi', u'equal', u'etc', u'admit', u'instanc', u'admir', u'comment', u'co', u'arriv', u'cd', u'respect', u'cv', u'quit', u'decent', u'compon', u'allway', u'togeth', u'ador', u'spain', u'multi', u'holiday', u'steep', u'defin', u'bombproof', u'ultra', u'purchas', u'engag', u'almost', u'dual', u'vw', u'junction', u'umph', u'steer', u'headlight', u'cross', u'member', u'cope', u'difficult', u'killer', u'drink', u'effect', u'pedal', u'fiat', u'expand', u'colour', u'usual', u'versatil', u'thought', u'command', u'choos', u'nippi', u'audio', u'distanc', u'rocket', u'less', u'half', u'flywheel', u'keen', u'wee', u'bell', u'add', u'other', u'wet', u'smart', u'kick', u'futur', u'piec', u'five', u'know', u'press', u'realis', u'tick', u'like', u'lost', u'incred', u'martin', u'exceed', u'drop', u'excellemt', u'transport', u'lead', u'esp', u'underpow', u'avoid', u'throttl', u'noisi', u'although', u'stage', u'rare', u'face', u'column', u'fear', u'damp', u'own', u'absolut', u'owe', u'automat', u'brilliantli', u'warranti', u'rectifi', u'merc', u'van', u'scrap', u'vag', u'deliveri', u'buy', u'north', u'agre', u'brand', u'advers', u'hi', u'whistl', u'grate', u'eas', u'bug', u'count', u'wise', u'wish', u'smooth', u'volvo', u'belov', u'limit', u'otherwis', u'problem', u'handbrak', u'penni', u'girl', u'probabl', u'boot', u'virtual', u'book', u'special', u'wing', u'repeat', u'star', u'stay', u'experienc', u'reliabl', u'racer', u'respos', u'understand']\n"
     ]
    }
   ],
   "source": [
    "print [key for key in vectorisor.vocabulary_.iterkeys()]"
   ]
  },
  {
   "cell_type": "code",
   "execution_count": 147,
   "metadata": {
    "collapsed": false,
    "scrolled": true
   },
   "outputs": [
    {
     "name": "stdout",
     "output_type": "stream",
     "text": [
      "Topic 0: car good drive fuel reliabl economi comfort\n",
      "Topic 1: car golf year love drive new mile\n",
      "Topic 2: car golf best own vw love great\n",
      "Topic 3: car vw problem year mile servic issu\n",
      "Topic 4: car great drive reliabl good comfort love\n"
     ]
    }
   ],
   "source": [
    "# Note, maybe should take names from an attribute of DT_MATRIX_REDUCE\n",
    "\n",
    "# Vocab needs to be a sorted list of words that went IN to the LDA\n",
    "# vocab = sorted(list(review_corpus.unique_tokens))\n",
    "vocab = sorted([key for key in vectorisor.vocabulary_.iterkeys()]) # nice\n",
    "topic_word = lda_model.topic_word_\n",
    "n_top_words = 8\n",
    "for i, topic_dist in enumerate(topic_word):\n",
    "    topic_words = np.array(vocab)[np.argsort(topic_dist)][:-n_top_words:-1]\n",
    "    print('Topic {}: {}'.format(i, ' '.join(topic_words)))"
   ]
  },
  {
   "cell_type": "code",
   "execution_count": null,
   "metadata": {
    "collapsed": true
   },
   "outputs": [],
   "source": []
  }
 ],
 "metadata": {
  "kernelspec": {
   "display_name": "Python 2",
   "language": "python",
   "name": "python2"
  },
  "language_info": {
   "codemirror_mode": {
    "name": "ipython",
    "version": 2
   },
   "file_extension": ".py",
   "mimetype": "text/x-python",
   "name": "python",
   "nbconvert_exporter": "python",
   "pygments_lexer": "ipython2",
   "version": "2.7.11"
  }
 },
 "nbformat": 4,
 "nbformat_minor": 0
}
