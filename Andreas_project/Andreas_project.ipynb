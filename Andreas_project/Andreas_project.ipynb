{
 "cells": [
  {
   "cell_type": "markdown",
   "metadata": {},
   "source": [
    "Things to think about\n",
    "- Removing short reviews"
   ]
  },
  {
   "cell_type": "code",
   "execution_count": 1,
   "metadata": {
    "collapsed": false
   },
   "outputs": [],
   "source": [
    "import numpy as np\n",
    "from bs4 import BeautifulSoup # for maniuplating html\n",
    "\n",
    "# START OF REVIEW EXTRACTING\n",
    "\n",
    "with open('car_output.txt', 'r') as stringfile: # so we load in ALL the data as a massive string\n",
    "\tcar_output = stringfile.read()\n",
    "\n",
    "out = [\"<!DOCTYPE html>\" + rest for rest in car_output.split(\"<!DOCTYPE html>\")] # split up by start pf page, but add the start point\n",
    "\n",
    "out_soup = [BeautifulSoup(html, \"html.parser\") for html in out[1:]] # convert to beautiful soup\n",
    "\n",
    "# I think the above is standard, now we actually do our document (i.e. if change URLs to look at)\n",
    "\n",
    "# Now extracting reviews - golf gives me 2098, could add another car to get more\n",
    "review_rating = []\n",
    "for page in out_soup:\n",
    "\tpage_contents = page.find_all(\"div\", itemprop=\"review\") # locating all reviews on a page\n",
    "\tresult = [(review.find(itemprop=\"reviewBody\").get_text().encode(\"ascii\",\"replace\"), # getting text\n",
    "\t           review.find(class_=\"size8\").get_text().encode(\"ascii\",\"replace\").split()[0]) for review in page_contents] # getting rating\n",
    "\t[review_rating.append(review) for review in result]\n",
    "\n",
    "# Removing empty reviews and getting rid of paragraphs and saving review and rating as a tuple\n",
    "review_rating_red = [(review[0].replace('\\n', ' ').replace('\\r', ''), review[1]) for review in review_rating if review[0] != \"Reviewer left no comment\"] # leaves us with 151 reviews\n",
    "\n",
    "# Save all data just for safety\n",
    "with open(\"reviews_ratings.txt\", \"w\") as out_file:\n",
    "\tout_file.write(\"\\n\".join(\"%s %s\" % review for review in review_rating_red))\n",
    "    \n",
    "# Getting reviews\n",
    "reviews = [review[0] for review in review_rating_red]\n",
    "reviews[1] = \"Top car I've had every convertible VW have made and still have a mk 1 golf but not cabriollet\" # Just randomly noticed this review was written by an idiot\n",
    "\n",
    "# Getting ratings\n",
    "ratings = [review[1] for review in review_rating_red] # distribution of ratings is not high, may not use\n",
    "\n",
    "# END OF REVIEW EXTRACTION"
   ]
  },
  {
   "cell_type": "code",
   "execution_count": 2,
   "metadata": {
    "collapsed": true
   },
   "outputs": [],
   "source": [
    "from nltk.tokenize import wordpunct_tokenize\n",
    "from nltk import PorterStemmer # could change the stemmer or lemmatise\n",
    "\n",
    "# START OF CLASS CREATION\n",
    "# Will create a class that will get rating and text\n",
    "class Review():\n",
    "    # On initialising\n",
    "    def __init__(self, review_text, review_rating):\n",
    "        self.text = review_text.lower() # NOTE that only the tokens are fixed up, text kept the same\n",
    "        self.rating = review_rating\n",
    "        self.tokens = np.array(wordpunct_tokenize(self.text)) # Would like to split on punct as well to remove later\n",
    "    \n",
    "    # Remove non-alphanumeric\n",
    "    def token_remove_alpha(self):\n",
    "            self.tokens = np.array([word for word in self.tokens if word.isalpha()])\n",
    "    \n",
    "    # Remove stop words\n",
    "    def token_stop_remove(self, stopwords):\n",
    "            self.tokens = np.array([word for word in self.tokens if word not in stopwords])\n",
    "            \n",
    "    # Now stem everything\n",
    "    def token_stem(self):\n",
    "            self.tokens = np.array([PorterStemmer().stem(word) for word in self.tokens])\n",
    "    \n",
    "    # Define a process that will clean our tokens\n",
    "    def token_clean_up(self, stopwords):    \n",
    "        # Now cleaning up\n",
    "        self.token_remove_alpha()\n",
    "        self.token_stop_remove(stopwords)\n",
    "        self.token_stem()\n",
    "    \n",
    "# END OF CLASS CREATION"
   ]
  },
  {
   "cell_type": "markdown",
   "metadata": {},
   "source": [
    "Note that for the stop words used, also excluded some common \"mistakes\" like youll or youre\n",
    "\n",
    "Also included some words previously included like \"high\", \"first\", \"long\", as they could refer to performance"
   ]
  },
  {
   "cell_type": "code",
   "execution_count": 3,
   "metadata": {
    "collapsed": false
   },
   "outputs": [],
   "source": [
    "from sklearn.feature_extraction.text import TfidfVectorizer\n",
    "from sklearn.feature_extraction.text import CountVectorizer\n",
    "\n",
    "# START OF CORPUS\n",
    "class Review_set():\n",
    "    # On initialising\n",
    "    def __init__(self, review_data, stopword_file):\n",
    "        self.reviews = [Review(review[0], review[1]) for review in review_data] # feed in the tuples of ratings etc.\n",
    "        self.create_stopwords(stopword_file) # stopword element\n",
    "        \n",
    "        # Now for each document we will get a cleaned up token set - note that this is done for each document\n",
    "        self.clean_reviews() \n",
    "        \n",
    "        self.tokenise_reviews() # return reviews but in tokenised form\n",
    "        \n",
    "        # Getting unique tokens in the review set - note we pull data from each document\n",
    "        self.get_unique_tokens()\n",
    "    \n",
    "    # Loading and creating stopwords\n",
    "    def create_stopwords(self, stopword_file):\n",
    "        self.stopwords = np.array(np.loadtxt(\"stopwords.txt\", dtype = str, delimiter = \"\\n\"))\n",
    "        \n",
    "    # Cleaning all documents\n",
    "    def clean_reviews(self):\n",
    "        [review.token_clean_up(self.stopwords) for review in self.reviews]\n",
    "        \n",
    "    # Getting reviews in tokenised form\n",
    "    def tokenise_reviews(self):\n",
    "        self.tokenised_reviews = [\" \".join(review.tokens) for review in self.reviews]\n",
    "        \n",
    "    # Getting the unique set of tokens\n",
    "    def get_unique_tokens(self):\n",
    "        self.unique_tokens = set()\n",
    "        for review in self.reviews:\n",
    "            self.unique_tokens = self.unique_tokens.union(review.tokens)\n",
    "        \n",
    "    # Document term matrix of CLEANED UP TOKENS - NOTE that will return in alphabetical order of words\n",
    "    def doc_term_mat(self):\n",
    "        vectorisor = CountVectorizer()\n",
    "        count_fit = vectorisor.fit_transform(self.tokenised_reviews)\n",
    "        \n",
    "        self.DTM = count_fit.toarray() # return array of counts\n",
    "    \n",
    "    # Get tf_idf scores\n",
    "    def tf_idf_score(self):   \n",
    "        vectorisor = TfidfVectorizer()\n",
    "        tf_idf_fit = vectorisor.fit_transform(self.tokenised_reviews)\n",
    "        \n",
    "        # Now return tuples of words and their associated score - note that am returning ALL\n",
    "        self.tf_idf = zip(vectorisor.get_feature_names(),vectorisor.idf_)\n",
    "        "
   ]
  },
  {
   "cell_type": "markdown",
   "metadata": {},
   "source": [
    "Ultimately will want to find common topics or \"trends\" in the reviews. To identify this could look for\n",
    "- Commonly occuring words: see common trends\n",
    "- Important words: maybe we can use this to identify more in depth reviews that focus on faults\n",
    "\n",
    "I guess then what would be left would be to try and identify the topics by looking at the common words\n",
    "\n",
    "Could extend and look at some kind of sentiment analysis of the top words in a topic\n",
    "\n",
    "Issues\n",
    "- Haven't really specified stop words\n",
    "- Superlatives etc. will really mess up the data, really want to focus on the technical aspects"
   ]
  },
  {
   "cell_type": "code",
   "execution_count": 4,
   "metadata": {
    "collapsed": false
   },
   "outputs": [],
   "source": [
    "# Creating the corpus etc\n",
    "review_data = zip(reviews, ratings)\n",
    "review_corpus = Review_set(review_data, \"stopwords.txt\")"
   ]
  },
  {
   "cell_type": "code",
   "execution_count": 5,
   "metadata": {
    "collapsed": false
   },
   "outputs": [
    {
     "name": "stdout",
     "output_type": "stream",
     "text": [
      "(4194L, 4005L)\n",
      "1861\n",
      "913\n",
      "(4194L, 418L)\n",
      "269\n",
      "(3925L, 418L)\n"
     ]
    }
   ],
   "source": [
    "# Just looking at dimensions and reducing by some words / documents\n",
    "\n",
    "review_corpus.doc_term_mat()\n",
    "\n",
    "doc_ratio = 0.00024\n",
    "\n",
    "vectorisor = CountVectorizer(min_df = 20, max_df = 2000) # 1138\n",
    "count_fit = vectorisor.fit_transform(review_corpus.tokenised_reviews)\n",
    "\n",
    "print review_corpus.DTM.shape # OLD SHAPE\n",
    "\n",
    "print sum(np.sum(review_corpus.DTM, axis = 0) == 1) # 1334 words only have one entry\n",
    "print max(np.sum(count_fit.toarray(), axis = 0)) # no word is present in more than 1000\n",
    "\n",
    "print count_fit.toarray().shape # NEW SHAPE\n",
    "print sum(np.sum(count_fit.toarray(), axis = 1) == 0)\n",
    "\n",
    "print count_fit.toarray()[np.sum(count_fit.toarray(), axis = 1) != 0,].shape # GET RID OF ZERO WORDS\n"
   ]
  },
  {
   "cell_type": "code",
   "execution_count": 6,
   "metadata": {
    "collapsed": false
   },
   "outputs": [
    {
     "data": {
      "text/plain": [
       "<lda.lda.LDA instance at 0x000000008C78B5C8>"
      ]
     },
     "execution_count": 6,
     "metadata": {},
     "output_type": "execute_result"
    }
   ],
   "source": [
    "import lda\n",
    "\n",
    "count_fit = vectorisor.fit_transform(review_corpus.tokenised_reviews)\n",
    "DT_matrix_reduced = count_fit.toarray()[np.sum(count_fit.toarray(), axis = 1) != 0,] # contain zero words\n",
    "# This could be done in a different way whereby we delete from start any short reviews??\n",
    "\n",
    "# PARAMETERS\n",
    "n_topics = 3\n",
    "n_iter = 30000\n",
    "###\n",
    "\n",
    "lda_model = lda.LDA(n_iter = n_iter, n_topics = n_topics)\n",
    "#lda_model.fit(review_corpus.DTM)\n",
    "lda_model.fit(DT_matrix_reduced)\n",
    "\n",
    "# Running an LDA to try and uncover topics present"
   ]
  },
  {
   "cell_type": "code",
   "execution_count": 148,
   "metadata": {
    "collapsed": false
   },
   "outputs": [],
   "source": [
    "#print [key for key in vectorisor.vocabulary_.iterkeys()]"
   ]
  },
  {
   "cell_type": "code",
   "execution_count": 7,
   "metadata": {
    "collapsed": false,
    "scrolled": true
   },
   "outputs": [
    {
     "name": "stdout",
     "output_type": "stream",
     "text": [
      "Topic 0: year problem mile vw new servic time reliabl replac fault engin\n",
      "Topic 1: reliabl comfort fuel economi econom excel famili run easi power engin\n",
      "Topic 2: best year reliabl vw own car buy new will recommend drive\n"
     ]
    }
   ],
   "source": [
    "\n",
    "vocab = sorted([word[0] for word in zip(vectorisor.get_feature_names(), np.asarray(count_fit.sum(axis = 0)).ravel())])\n",
    "\n",
    "topic_word = lda_model.topic_word_\n",
    "n_top_words = 12\n",
    "for i, topic_dist in enumerate(topic_word):\n",
    "    topic_words = np.array(vocab)[np.argsort(topic_dist)][:-n_top_words:-1]\n",
    "    print('Topic {}: {}'.format(i, ' '.join(topic_words)))"
   ]
  },
  {
   "cell_type": "markdown",
   "metadata": {},
   "source": [
    "Remove things like \"love\" and general evaluation, because will do a sentiment thing on that later\n",
    "- although then we will need a different set of stop words to do this, which seems inefficient\n",
    "\n",
    "\n",
    "For the sentiment - could either do an average sentiment of each document and then average by weight\n",
    "OR could do an actual sentiment on the words in the topic\n",
    "- the only thing is that \"engine\" has no connotation, but \"has a great engine\" does, so we get by document rather than word"
   ]
  },
  {
   "cell_type": "code",
   "execution_count": 8,
   "metadata": {
    "collapsed": false
   },
   "outputs": [],
   "source": [
    "# SENTIMENT\n",
    "## Getting AFINN\n",
    "import string\n",
    "AFINN = dict(map(lambda (k,v): (k,int(v)), [line.split('\\t') for line in open(\"./AFINN/AFINN-111.txt\")]))\n",
    "\n",
    "## NOW HOW TO RETURN SCORE - note feed a string which is the entire review - then outside we loop\n",
    "def sentiment_scores(review_string):\n",
    "    # remove punct from string we feed\n",
    "    string_punct_rem = review_string.translate(string.maketrans(\"\",\"\"), string.punctuation)\n",
    "    # Go over each word in the string to get score\n",
    "    score_list = map(lambda word: AFINN.get(word, 0), string_punct_rem.lower().split())\n",
    "    \n",
    "    return score_list\n",
    "\n",
    "###\n",
    "\n",
    "# Feeding in each review in string form\n",
    "review_scores = [sentiment_scores(review) for review in reviews]\n",
    "non_zero = map(lambda score_list: [score for score in score_list if score != 0], review_scores) # maybe should do an \"if not None\" or something\n",
    "review_scores_sum = [sum(score) for score in review_scores]\n",
    "review_scores_mean = [np.mean(score) if len(score) != 0 else 0 for score in non_zero] # should only include those entries that are non-zero`"
   ]
  },
  {
   "cell_type": "markdown",
   "metadata": {},
   "source": [
    "Decision of whether to use full text - or to use some tokenised form. I guess the thing is that if we use tokenised, there will be many words not included, while the AFINN is supposed to be very complete\n",
    "\n",
    "\n",
    "To proceed - we now have the sentiment score for each of the reviews (SHOULD EVALUATE A POOR SCORE ONE)\n",
    "Then what we want to do is loop over the topics and add to its score - the proportion of the score explained by the document"
   ]
  },
  {
   "cell_type": "code",
   "execution_count": 9,
   "metadata": {
    "collapsed": false
   },
   "outputs": [
    {
     "name": "stdout",
     "output_type": "stream",
     "text": [
      "[ 1254.29229625  2741.11178707  2637.23851991]\n"
     ]
    }
   ],
   "source": [
    "review_scores_mean_red = np.array(review_scores_mean)[np.sum(count_fit.toarray(), axis = 1) != 0,]\n",
    "\n",
    "# FIRST TRIAL OF TOPIC SENTIMENT\n",
    "print np.dot(np.transpose(review_scores_mean_red),lda_model.doc_topic_)\n"
   ]
  },
  {
   "cell_type": "code",
   "execution_count": 10,
   "metadata": {
    "collapsed": false
   },
   "outputs": [
    {
     "name": "stdout",
     "output_type": "stream",
     "text": [
      "[ 0.30650529  0.35456518  0.33892953]\n",
      "[ 0.99449036  0.98963731  0.99267399]\n",
      "[ 0.003003    0.00146413  0.00095877]\n",
      "[ 1203.03324433  1391.66834515  1330.29841053]\n"
     ]
    }
   ],
   "source": [
    "# get a look at the average probabilities\n",
    "print lda_model.doc_topic_.mean(axis = 0)\n",
    "print lda_model.doc_topic_.max(axis = 0)\n",
    "print lda_model.doc_topic_.min(axis = 0)\n",
    "print lda_model.doc_topic_.sum(axis = 0)\n"
   ]
  },
  {
   "cell_type": "code",
   "execution_count": 11,
   "metadata": {
    "collapsed": false
   },
   "outputs": [
    {
     "name": "stdout",
     "output_type": "stream",
     "text": [
      "[ 1.04260818  1.96965879  1.98244131]\n"
     ]
    }
   ],
   "source": [
    "from __future__ import division\n",
    "\n",
    "doc_topic_normed = lda_model.doc_topic_ / lda_model.doc_topic_.sum(axis = 0)\n",
    "\n",
    "# Second trial with attempt to normalise\n",
    "print np.dot(np.transpose(review_scores_mean_red), doc_topic_normed)\n",
    "\n",
    "# Looks better now and at least has some sense"
   ]
  },
  {
   "cell_type": "markdown",
   "metadata": {
    "collapsed": false
   },
   "source": [
    "Ideas for further\n",
    "- Could do a word cloud where we have size by probability and colour by sentiment\n",
    "- Then another thing to do is to look at the relationship between frequency of words and their sentiment"
   ]
  },
  {
   "cell_type": "code",
   "execution_count": 12,
   "metadata": {
    "collapsed": false
   },
   "outputs": [],
   "source": [
    "# Trying to make a data frame where we have a word,\n",
    "# the probability for each topic, and then the sentiment\n",
    "\n",
    "# The words\n",
    "words = vocab\n",
    "\n",
    "# Their scores\n",
    "scores_1 = topic_word[0] # comes as three lists\n",
    "scores_2 = topic_word[1]\n",
    "scores_3 = topic_word[2]\n",
    "\n",
    "# Sentiments\n",
    "sentiments = [AFINN.get(word, 0) for word in vocab]\n",
    "\n",
    "# Putting them all together\n",
    "data_for_export = np.asarray([words, scores_1, scores_2, scores_3, sentiments]).T\n",
    "\n",
    "# Save csv\n",
    "np.savetxt(\"data_export.csv\", np.array(data_for_export), delimiter=\",\", fmt = \"%s\")\n"
   ]
  },
  {
   "cell_type": "code",
   "execution_count": 22,
   "metadata": {
    "collapsed": false
   },
   "outputs": [
    {
     "name": "stdout",
     "output_type": "stream",
     "text": [
      "[[  1.53295440e-08]\n",
      " [  2.81439258e-17]\n",
      " [  5.98189617e-09]\n",
      " [  3.48106866e-07]\n",
      " [  5.42773209e-07]\n",
      " [  3.68454764e-07]\n",
      " [  1.12317078e-06]\n",
      " [  2.85978192e-09]\n",
      " [  3.05774936e-06]\n",
      " [  9.79841268e-06]\n",
      " [  3.83236436e-17]\n",
      " [  3.47308020e-17]\n",
      " [  1.79383988e-07]\n",
      " [  5.47188982e-06]\n",
      " [  1.48672662e-06]\n",
      " [  4.61515990e-08]\n",
      " [  4.07932061e-07]\n",
      " [  3.29711004e-06]\n",
      " [  8.21868770e-07]\n",
      " [  4.11662430e-08]\n",
      " [  3.95585135e-08]\n",
      " [  1.55689802e-17]\n",
      " [  1.98918209e-07]\n",
      " [  1.67665941e-17]\n",
      " [  1.79642079e-17]\n",
      " [  1.98918209e-07]\n",
      " [  2.57486981e-16]\n",
      " [  2.69069461e-06]\n",
      " [  5.15680704e-09]\n",
      " [  1.21501082e-07]\n",
      " [  3.78729436e-08]\n",
      " [  7.45235921e-06]\n",
      " [  1.80181545e-08]\n",
      " [  2.65390010e-07]\n",
      " [  2.57486981e-17]\n",
      " [  3.89189157e-05]\n",
      " [  1.29673859e-07]\n",
      " [  4.67667113e-05]\n",
      " [  5.76327402e-08]\n",
      " [  3.29329944e-08]\n",
      " [  1.29602383e-06]\n",
      " [  6.04795001e-17]\n",
      " [  5.81016330e-07]\n",
      " [  1.87621702e-04]]\n"
     ]
    }
   ],
   "source": [
    "from sklearn import linear_model\n",
    "import matplotlib.pyplot as plt\n",
    "import math as mt\n",
    "\n",
    "word_counts = np.sum(DT_matrix_reduced, axis = 0) # this is the count of the words over all documents\n",
    "\n",
    "# Sentiments\n",
    "sent_array = [sent for sent in sentiments if sent != 0]\n",
    "sent_array = np.array(sent_array).reshape((len(sent_array),1))\n",
    "\n",
    "# Getting the weighted counts\n",
    "scores_red_1 = np.array([w for (s,w) in zip(sent_array, scores_1) if s != 0])\n",
    "counts_red_1 = np.array([w[0] for (s,w) in zip(sent_array, weighted_counts_1) if s != 0])\n",
    "\n",
    "scores_red_2 = np.array([w for (s,w) in zip(sent_array, scores_2) if s != 0])\n",
    "counts_red_2 = np.array([w[0] for (s,w) in zip(sent_array, weighted_counts_2) if s != 0])\n",
    "\n",
    "scores_red_3 = np.array([w for (s,w) in zip(sent_array, scores_3) if s != 0])\n",
    "counts_red_3 = np.array([w[0] for (s,w) in zip(sent_array, weighted_counts_3) if s != 0])\n",
    "\n",
    "weighted_counts_1 = scores_red_1 * counts_red_1\n",
    "weighted_counts_2 = scores_red_2 * counts_red_2\n",
    "weighted_counts_3 = scores_red_3 * counts_red_3\n",
    "\n",
    "weighted_counts_1 = weighted_counts_1.reshape((len(weighted_counts_1),1))\n",
    "weighted_counts_2 = weighted_counts_2.reshape((len(weighted_counts_2),1))\n",
    "weighted_counts_3 = weighted_counts_3.reshape((len(weighted_counts_3),1))"
   ]
  },
  {
   "cell_type": "code",
   "execution_count": 34,
   "metadata": {
    "collapsed": false
   },
   "outputs": [
    {
     "name": "stdout",
     "output_type": "stream",
     "text": [
      "Coefficients 1: \n",
      "[[ -2.24812180e-06]]\n",
      "Coefficients 2: \n",
      "[[ -8.97237542e-07]]\n",
      "Coefficients 3: \n",
      "[[ 0.0004694]]\n",
      "Y inter 1: \n",
      "[  9.47412870e-06]\n",
      "Y inter 2: \n",
      "[  1.01625649e-05]\n",
      "Y inter 3: \n",
      "[ 0.00056902]\n"
     ]
    }
   ],
   "source": [
    "# Regression\n",
    "regr_1 = linear_model.LinearRegression()\n",
    "regr_2 = linear_model.LinearRegression()\n",
    "regr_3 = linear_model.LinearRegression()\n",
    "\n",
    "regr_1.fit(sent_array, weighted_counts_1)\n",
    "regr_2.fit(sent_array, weighted_counts_2)\n",
    "regr_3.fit(sent_array, weighted_counts_3)\n",
    "\n",
    "# The coefficients\n",
    "print 'Coefficients 1: \\n', regr_1.coef_\n",
    "print 'Coefficients 2: \\n', regr_2.coef_\n",
    "print 'Coefficients 3: \\n', regr_3.coef_\n",
    "\n",
    "print 'Y inter 1: \\n', regr_1.intercept_\n",
    "print 'Y inter 2: \\n', regr_2.intercept_\n",
    "print 'Y inter 3: \\n', regr_3.intercept_\n",
    "\n",
    "# Plot outputs\n",
    "## 1\n",
    "x = [x[0] for x in sorted(sent_array)]\n",
    "y_1 = [w[0] for (s, w) in sorted(zip(sent_array, weighted_counts_1))]\n",
    "\n",
    "y_fit_1 = [regr_1.intercept_[0] + regr_1.coef_[0] * x_val for x_val in x]\n",
    "\n",
    "plt.plot(x, y_1, 'x')\n",
    "plt.plot(x, y_fit_1, '-')\n",
    "plt.xlabel(\"Sentiment\")\n",
    "plt.ylabel(\"Weighted count\")\n",
    "plt.title(\"Topic 2\")\n",
    "plt.show()\n",
    "\n",
    "## 2\n",
    "x = [x[0] for x in sorted(sent_array)]\n",
    "y_2 = [w[0] for (s, w) in sorted(zip(sent_array, weighted_counts_2))]\n",
    "\n",
    "y_fit_2 = [regr_2.intercept_[0] + regr_2.coef_[0] * x_val for x_val in x]\n",
    "\n",
    "plt.plot(x, y_2, 'x')\n",
    "plt.plot(x, y_fit_2, '-')\n",
    "plt.xlabel(\"Sentiment\")\n",
    "plt.ylabel(\"Weighted count\")\n",
    "plt.title(\"Topic 1\")\n",
    "plt.show()\n",
    "\n",
    "## 3\n",
    "x = [x[0] for x in sorted(sent_array)]\n",
    "y_3 = [w[0] for (s, w) in sorted(zip(sent_array, weighted_counts_3))]\n",
    "\n",
    "y_fit_3 = [regr_3.intercept_[0] + regr_3.coef_[0] * x_val for x_val in x]\n",
    "\n",
    "plt.plot(x, y_3, 'x')\n",
    "plt.plot(x, y_fit_3, '-')\n",
    "plt.xlabel(\"Sentiment\")\n",
    "plt.ylabel(\"Weighted count\")\n",
    "plt.title(\"Topic 3\")\n",
    "plt.show()"
   ]
  },
  {
   "cell_type": "code",
   "execution_count": null,
   "metadata": {
    "collapsed": true
   },
   "outputs": [],
   "source": []
  }
 ],
 "metadata": {
  "kernelspec": {
   "display_name": "Python 2",
   "language": "python",
   "name": "python2"
  },
  "language_info": {
   "codemirror_mode": {
    "name": "ipython",
    "version": 2
   },
   "file_extension": ".py",
   "mimetype": "text/x-python",
   "name": "python",
   "nbconvert_exporter": "python",
   "pygments_lexer": "ipython2",
   "version": "2.7.11"
  }
 },
 "nbformat": 4,
 "nbformat_minor": 0
}
